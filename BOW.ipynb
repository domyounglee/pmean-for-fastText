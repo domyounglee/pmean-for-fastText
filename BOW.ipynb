{
 "cells": [
  {
   "cell_type": "code",
   "execution_count": 1,
   "metadata": {},
   "outputs": [],
   "source": [
    "from sklearn.preprocessing import normalize\n",
    "from gensim.models.keyedvectors import KeyedVectors\n",
    "import numpy as np\n",
    "import json\n",
    "import gensim\n",
    "\n",
    "\n",
    "from pprint import pprint\n"
   ]
  },
  {
   "cell_type": "code",
   "execution_count": 2,
   "metadata": {},
   "outputs": [],
   "source": [
    "w2v = gensim.models.KeyedVectors.load_word2vec_format('/home/domyoung/DeepLearning/wordembedding/pretrained/w2v_vectors.bin', binary=True,unicode_errors='ignore')"
   ]
  },
  {
   "cell_type": "code",
   "execution_count": 24,
   "metadata": {},
   "outputs": [],
   "source": [
    "import fastText\n",
    "fT=fastText.FastText.load_model('/home/domyoung/Airi/20181119-cleaned-all-words-x300-ws5-min50-minn2-maxn-6-epoch2.bin')"
   ]
  },
  {
   "cell_type": "code",
   "execution_count": 4,
   "metadata": {},
   "outputs": [],
   "source": [
    "import p_mean as pmean  "
   ]
  },
  {
   "cell_type": "code",
   "execution_count": 3,
   "metadata": {},
   "outputs": [],
   "source": [
    "import p_mean_FT as pmeanFT"
   ]
  },
  {
   "cell_type": "markdown",
   "metadata": {},
   "source": [
    "## hyperparameters"
   ]
  },
  {
   "cell_type": "code",
   "execution_count": 5,
   "metadata": {},
   "outputs": [],
   "source": [
    "dim = 300"
   ]
  },
  {
   "cell_type": "code",
   "execution_count": 6,
   "metadata": {},
   "outputs": [],
   "source": [
    "meanlist=['mean','p_mean_3','p_mean_2']\n"
   ]
  },
  {
   "cell_type": "markdown",
   "metadata": {},
   "source": [
    "## make sent_matrix "
   ]
  },
  {
   "cell_type": "code",
   "execution_count": 7,
   "metadata": {},
   "outputs": [],
   "source": [
    "line_list=[]\n",
    "with open(\"./santafe_category.txt\") as f:\n",
    "    i=0\n",
    "\n",
    "    for line in f:\n",
    "        if line not in line_list:\n",
    "            line_list.append(line)"
   ]
  },
  {
   "cell_type": "code",
   "execution_count": 8,
   "metadata": {},
   "outputs": [],
   "source": [
    "sent_matrix=np.empty((0,dim))\n",
    "sent2idx={}\n",
    "idx2sent={}\n",
    "\n",
    "i=0\n",
    "\n",
    "for line in line_list:\n",
    "    values = np.zeros(dim)\n",
    "    # indexing\n",
    "    sent2idx[line]=i\n",
    "    idx2sent[i]=line\n",
    "\n",
    "\n",
    "    k=0\n",
    "    if(\" @ \" in line):\n",
    "        line=line[:line.index(\" @ \")]\n",
    "        #strip newline\n",
    "        line = line.replace('\\n','')\n",
    "    words = line.split(' ')\n",
    "    \n",
    "    for word in words:\n",
    "        #it is the page number\n",
    "        if(word == \"@\"):\n",
    "            break\n",
    "        #add\n",
    "        if(word in w2v):\n",
    "            \n",
    "            values+=w2v[word]\n",
    "            \n",
    "            k+=1\n",
    "\n",
    "    if k > 0:\n",
    "        sent_matrix=np.vstack((sent_matrix,pmean.z_norm(values)))\n",
    "    else: \n",
    "        sent_matrix=np.vstack((sent_matrix,values))\n",
    "    \n",
    "    i+=1\n",
    "   \n",
    "    if(i%100000==0):\n",
    "        print(datetime.datetime.now().isoformat())\n",
    "sent_matrix = normalize(sent_matrix)"
   ]
  },
  {
   "cell_type": "markdown",
   "metadata": {},
   "source": [
    "## make query vector "
   ]
  },
  {
   "cell_type": "code",
   "execution_count": 15,
   "metadata": {},
   "outputs": [],
   "source": [
    "query = \"리모컨 키 배터리 교체 방법 알려줘\"\n",
    "query_vec =None\n",
    "\n",
    "words=query.split(' ')\n",
    "k=0\n",
    "for word in words:\n",
    "    #add\n",
    "    if(word in w2v):\n",
    "        values+=np.squeeze(normalize(w2v[word].reshape(1,-1)))\n",
    "        #values+=w2v[word]\n",
    "        k+=1\n",
    "if k > 0:\n",
    "    query_vec=values/k\n",
    "else: \n",
    "    query_vec=values\n",
    "\n",
    "query_vec = pmean.z_norm(query_vec)\n",
    "#normlize query vector\n",
    "query_vec = np.squeeze(normalize(query_vec.reshape(1,-1)))"
   ]
  },
  {
   "cell_type": "code",
   "execution_count": 16,
   "metadata": {},
   "outputs": [
    {
     "name": "stderr",
     "output_type": "stream",
     "text": [
      "/home/domyoung/anaconda3/envs/tf_gpu/lib/python3.6/site-packages/ipykernel_launcher.py:1: DeprecationWarning: Call to deprecated `syn0` (Attribute will be removed in 4.0.0, use self.wv.vectors instead).\n",
      "  \"\"\"Entry point for launching an IPython kernel.\n"
     ]
    },
    {
     "data": {
      "text/plain": [
       "(4040272, 300)"
      ]
     },
     "execution_count": 16,
     "metadata": {},
     "output_type": "execute_result"
    }
   ],
   "source": [
    "np.shape(w2v.syn0)"
   ]
  },
  {
   "cell_type": "code",
   "execution_count": 17,
   "metadata": {},
   "outputs": [
    {
     "name": "stdout",
     "output_type": "stream",
     "text": [
      " 블루링크(Blue Link) 0.8749406490233367\n",
      "==\n",
      " 하이빔 보조(HBA) 시스템\n",
      " 0.7234573968893304\n",
      "==\n",
      " 선바이저 램프\n",
      " 0.6907384330557564\n",
      "==\n",
      " 스마트키 리마인더\n",
      " 0.6902303909256371\n",
      "==\n",
      " 테일게이트 열림\n",
      " 0.6879389538108731\n",
      "==\n",
      " 리모컨 키\n",
      " 0.6878028519391455\n",
      "==\n",
      " 제동등을 점검하십시오\n",
      " 0.6873355768935303\n",
      "==\n",
      " 와셔액 분출\n",
      " 0.6834689171904679\n",
      "==\n",
      " 미등 표시등\n",
      " 0.6833882003456752\n",
      "==\n",
      " 미등 위치\n",
      " 0.6833882003456752\n",
      "==\n"
     ]
    }
   ],
   "source": [
    "\n",
    "#calculate similiarity\n",
    "sim = sent_matrix@query_vec\n",
    "#sort the similiarty array\n",
    "rank_idx=(sim).argsort()[::-1]\n",
    "\n",
    "for i in range(10):\n",
    "    print(idx2sent[rank_idx[i]],sim[rank_idx[i]])\n",
    "    print(\"==\")"
   ]
  },
  {
   "cell_type": "code",
   "execution_count": null,
   "metadata": {},
   "outputs": [],
   "source": []
  },
  {
   "cell_type": "markdown",
   "metadata": {},
   "source": [
    "# word2vec p-mean"
   ]
  },
  {
   "cell_type": "code",
   "execution_count": null,
   "metadata": {},
   "outputs": [],
   "source": []
  },
  {
   "cell_type": "code",
   "execution_count": 18,
   "metadata": {},
   "outputs": [
    {
     "name": "stdout",
     "output_type": "stream",
     "text": [
      "No word embeddings for sentence:\n",
      "['스마트키\\n']\n",
      "No word embeddings for sentence:\n",
      "['도어\\n']\n",
      "No word embeddings for sentence:\n",
      "['도난경보장치\\n']\n",
      "No word embeddings for sentence:\n",
      "['경음기\\n']\n",
      "No word embeddings for sentence:\n",
      "['미러\\n']\n",
      "No word embeddings for sentence:\n",
      "['실내미러\\n']\n",
      "No word embeddings for sentence:\n",
      "['전동식\\n']\n",
      "No word embeddings for sentence:\n",
      "['테일게이트\\n']\n",
      "No word embeddings for sentence:\n",
      "['연료주입구\\n']\n",
      "No word embeddings for sentence:\n",
      "['계기판\\n']\n",
      "No word embeddings for sentence:\n",
      "['계측기\\n']\n",
      "No word embeddings for sentence:\n",
      "['LCD표시창\\n']\n",
      "No word embeddings for sentence:\n",
      "['empty\\n']\n",
      "No word embeddings for sentence:\n",
      "['조명\\n']\n",
      "No word embeddings for sentence:\n",
      "['와이퍼/와셔\\n']\n",
      "No word embeddings for sentence:\n",
      "['실내등\\n']\n",
      "No word embeddings for sentence:\n",
      "['맵램프\\n']\n",
      "No word embeddings for sentence:\n",
      "['룸램프\\n']\n",
      "No word embeddings for sentence:\n",
      "['퍼들', '램프\\n']\n",
      "No word embeddings for sentence:\n",
      "['서리제거(열선)\\n']\n"
     ]
    }
   ],
   "source": [
    "p_sent_matrix=np.empty((0,dim*len(meanlist)))\n",
    "p_sent2idx={}\n",
    "p_idx2sent={}\n",
    "\n",
    "i=0\n",
    "\n",
    "for line in line_list:\n",
    "    values = np.zeros(dim)\n",
    "    # indexing\n",
    "    p_sent2idx[line]=i\n",
    "    p_idx2sent[i]=line\n",
    "\n",
    "\n",
    "    k=0\n",
    "    if(\" @ \" in line):\n",
    "        line=line[:line.index(\" @ \")]\n",
    "        #strip newline\n",
    "        line = line.replace('\\n','')\n",
    "    words = line.split(' ')\n",
    "    values = pmean.get_sentence_embedding(words,w2v,meanlist)\n",
    "    i+=1\n",
    "    p_sent_matrix=np.vstack((p_sent_matrix,pmeanFT.z_norm(values)))\n",
    "    if(i%100000==0):\n",
    "        print(datetime.datetime.now().isoformat())\n",
    "p_sent_matrix = normalize(p_sent_matrix)"
   ]
  },
  {
   "cell_type": "code",
   "execution_count": 19,
   "metadata": {},
   "outputs": [],
   "source": [
    "query = \"리모컨 키 배터리 교체 방법 알려줘\"\n",
    "query_vec =None\n",
    "\n",
    "words=query.split(' ')\n",
    "query_vec = pmean.get_sentence_embedding(words,w2v,meanlist)\n",
    "query_vec = pmean.z_norm(query_vec)\n",
    "#normlize query vector\n",
    "query_vec = np.squeeze(normalize(query_vec.reshape(1,-1)))"
   ]
  },
  {
   "cell_type": "code",
   "execution_count": 21,
   "metadata": {
    "scrolled": false
   },
   "outputs": [
    {
     "name": "stdout",
     "output_type": "stream",
     "text": [
      "리모컨 키 사용 시 주의사항\n",
      " 0.8348408290224996\n",
      "==\n",
      "리모컨 키 사용 방법\n",
      " 0.8309919034106776\n",
      "==\n",
      " 이모빌라이저 경고등 (리모컨 키 장착 차량)\n",
      " 0.7742589778396123\n",
      "==\n",
      "건전지 교체 방법\n",
      " 0.7606527566342907\n",
      "==\n",
      " 키 확인 표시등 (스마트키 장착 차량)\n",
      " 0.7590550066325026\n",
      "==\n",
      " 배터리 방전 방지 기능(차량 조명을 켜 놓은채 실수로 하차시 조명 자동 소등)\n",
      " 0.7533795175804063\n",
      "==\n",
      " 리모컨 키\n",
      " 0.7328140734877977\n",
      "==\n",
      " 도어 잠금 해제(2)(세이프티 언락 기능 설정 시)\n",
      " 0.7226928476374197\n",
      "==\n",
      " 스마트키 배터리 전압이 낮습니다\n",
      " 0.7196564176536591\n",
      "==\n",
      "도어 잠금 해제 (세이프티 언락 기능 설정 시)\n",
      " 0.7189516022424276\n",
      "==\n"
     ]
    }
   ],
   "source": [
    "\n",
    "#calculate similiarity\n",
    "sim = p_sent_matrix@query_vec\n",
    "#sort the similiarty array\n",
    "rank_idx=(sim).argsort()[::-1]\n",
    "\n",
    "for i in range(10):\n",
    "    print(p_idx2sent[rank_idx[i]],sim[rank_idx[i]])\n",
    "    print(\"==\")"
   ]
  },
  {
   "cell_type": "markdown",
   "metadata": {},
   "source": [
    "# FastText"
   ]
  },
  {
   "cell_type": "code",
   "execution_count": 27,
   "metadata": {},
   "outputs": [],
   "source": [
    "fT_sent_matrix=np.empty((0,dim))\n",
    "fT_sent2idx={}\n",
    "fT_idx2sent={}\n",
    "\n",
    "i=0\n",
    "\n",
    "for line in line_list:\n",
    "\n",
    "    # indexing\n",
    "    fT_sent2idx[line]=i\n",
    "    fT_idx2sent[i]=line\n",
    "\n",
    "    #remove the \"@ ~\" part\n",
    "\n",
    "    if(\" @ \" in line):\n",
    "        line=line[:line.index(\" @ \")]\n",
    "    #strip newline\n",
    "    line = line.replace('\\n','')\n",
    "    values = fT.get_sentence_vector(line)\n",
    "    values = np.squeeze(normalize(pmeanFT.z_norm(values).reshape(1,-1)))\n",
    "\n",
    "    fT_sent_matrix=np.vstack((fT_sent_matrix,values))\n",
    "    i+=1\n",
    "fT_sent_matrix = normalize(fT_sent_matrix)"
   ]
  },
  {
   "cell_type": "markdown",
   "metadata": {},
   "source": [
    "## compute max sentence vector \n"
   ]
  },
  {
   "cell_type": "code",
   "execution_count": null,
   "metadata": {},
   "outputs": [],
   "source": []
  },
  {
   "cell_type": "code",
   "execution_count": 29,
   "metadata": {},
   "outputs": [],
   "source": [
    "q_vec= pmeanFT.z_norm(fT.get_sentence_vector(\"리모컨 키 배터리 교체 방법 알려줘\"))\n",
    "q_vec = np.squeeze(normalize(q_vec.reshape(1,-1)))\n"
   ]
  },
  {
   "cell_type": "code",
   "execution_count": 31,
   "metadata": {},
   "outputs": [
    {
     "name": "stdout",
     "output_type": "stream",
     "text": [
      "리모컨 키 사용 방법\n",
      " 0.858838675247939\n",
      "==\n",
      "건전지 교체 방법\n",
      " 0.8363520237012205\n",
      "==\n",
      "리모컨 키\n",
      " 0.802192856030285\n",
      "==\n",
      " 리모컨 키\n",
      " 0.802192856030285\n",
      "==\n",
      "리모컨 키 사용 시 주의사항\n",
      " 0.7801984878650643\n",
      "==\n",
      " 키 확인 표시등 (스마트키 장착 차량)\n",
      " 0.7728797165619244\n",
      "==\n",
      " 스마트키 배터리 전압이 낮습니다\n",
      " 0.7658651765612505\n",
      "==\n",
      " 이모빌라이저 경고등 (리모컨 키 장착 차량)\n",
      " 0.7649227016925294\n",
      "==\n",
      "스마트키 버튼 사용 방법\n",
      " 0.7605144123475809\n",
      "==\n",
      " 배터리 방전 방지 기능(차량 조명을 켜 놓은채 실수로 하차시 조명 자동 소등)\n",
      " 0.7472516232548054\n",
      "==\n"
     ]
    }
   ],
   "source": [
    "fT_sim = fT_sent_matrix@q_vec\n",
    "fT_rank_idx=(fT_sim).argsort()[::-1]\n",
    "for i in range(10):\n",
    "    print(fT_idx2sent[fT_rank_idx[i]],fT_sim[fT_rank_idx[i]])\n",
    "    print(\"==\")\n",
    "    \n"
   ]
  },
  {
   "cell_type": "code",
   "execution_count": null,
   "metadata": {},
   "outputs": [],
   "source": []
  },
  {
   "cell_type": "markdown",
   "metadata": {},
   "source": [
    "# Fasttext p-mean"
   ]
  },
  {
   "cell_type": "code",
   "execution_count": 32,
   "metadata": {},
   "outputs": [],
   "source": [
    "pFT_sent_matrix=np.empty((0,dim*len(meanlist)))\n",
    "pFT_sent2idx={}\n",
    "pFT_idx2sent={}\n",
    "\n",
    "\n",
    "i=0\n",
    "\n",
    "for line in line_list:\n",
    "\n",
    "    # indexing\n",
    "    pFT_sent2idx[line]=i\n",
    "    pFT_idx2sent[i]=line\n",
    "\n",
    "    #remove the \"@ ~\" part\n",
    "\n",
    "    if(\" @ \" in line):\n",
    "        line=line[:line.index(\" @ \")]\n",
    "    #strip newlinea\n",
    "    line = line.replace('\\n','')\n",
    "\n",
    "    words=line.split(\" \") #split to words \n",
    "\n",
    "    sent_vec=pmeanFT.get_sentence_embedding(words, fT,meanlist) #make sentence vector\n",
    "\n",
    "    pFT_sent_matrix=np.vstack((pFT_sent_matrix,sent_vec)) #add to sentence matrix \n",
    "    i+=1\n",
    "pFT_sent_matrix = normalize(pFT_sent_matrix)"
   ]
  },
  {
   "cell_type": "code",
   "execution_count": 33,
   "metadata": {},
   "outputs": [
    {
     "data": {
      "text/plain": [
       "(333, 900)"
      ]
     },
     "execution_count": 33,
     "metadata": {},
     "output_type": "execute_result"
    }
   ],
   "source": [
    "np.shape(pFT_sent_matrix)"
   ]
  },
  {
   "cell_type": "code",
   "execution_count": 34,
   "metadata": {},
   "outputs": [],
   "source": [
    "query=\"리모컨 키 건전지 교체 방법 알려줘\"\n",
    "words = query.split(\" \")\n",
    "pFT_query_vec=pmeanFT.z_norm(pmeanFT.get_sentence_embedding(words, fT,meanlist)) #make query vector\n",
    "pFT_query_vec = np.squeeze(normalize(pFT_query_vec.reshape(1,-1)))"
   ]
  },
  {
   "cell_type": "code",
   "execution_count": 35,
   "metadata": {},
   "outputs": [
    {
     "name": "stdout",
     "output_type": "stream",
     "text": [
      "리모컨 키 사용 방법\n",
      " 0.8875924427895896\n",
      "==\n",
      "건전지 교체 방법\n",
      " 0.8806541115446684\n",
      "==\n",
      "리모컨 키 사용 시 주의사항\n",
      " 0.8215448015331706\n",
      "==\n",
      "리모컨 키\n",
      " 0.8121946960607308\n",
      "==\n",
      " 배터리 방전 방지 기능(차량 조명을 켜 놓은채 실수로 하차시 조명 자동 소등)\n",
      " 0.8031932952039553\n",
      "==\n",
      " 키 확인 표시등 (스마트키 장착 차량)\n",
      " 0.8008541206851127\n",
      "==\n",
      " 이모빌라이저 경고등 (리모컨 키 장착 차량)\n",
      " 0.7939345125716173\n",
      "==\n",
      "파워 테일게이트 열림 높이 사용자 설정 방법\n",
      " 0.7926408834087026\n",
      "==\n",
      "스마트키 버튼 사용 방법\n",
      " 0.7918453720318595\n",
      "==\n",
      "스마트 테일게이트 작동 방법\n",
      " 0.7830712934724449\n",
      "==\n"
     ]
    }
   ],
   "source": [
    "pFT_sim = pFT_sent_matrix@pFT_query_vec\n",
    "pFT_rank_idx=(pFT_sim).argsort()[::-1]\n",
    "for i in range(10):\n",
    "    print(pFT_idx2sent[pFT_rank_idx[i]],pFT_sim[pFT_rank_idx[i]])\n",
    "    print(\"==\")"
   ]
  }
 ],
 "metadata": {
  "kernelspec": {
   "display_name": "Python 3",
   "language": "python",
   "name": "python3"
  },
  "language_info": {
   "codemirror_mode": {
    "name": "ipython",
    "version": 3
   },
   "file_extension": ".py",
   "mimetype": "text/x-python",
   "name": "python",
   "nbconvert_exporter": "python",
   "pygments_lexer": "ipython3",
   "version": "3.6.5"
  }
 },
 "nbformat": 4,
 "nbformat_minor": 2
}
